{
 "cells": [
  {
   "cell_type": "code",
   "execution_count": 1,
   "metadata": {},
   "outputs": [
    {
     "name": "stdout",
     "output_type": "stream",
     "text": [
      "LD_LIBRARY_PATH: /software/rome/r23.10/Python/3.10.4-GCCcore-11.3.0/lib:/software/rome/r23.10/OpenSSL/1.1/lib:/software/rome/r23.10/libffi/3.4.2-GCCcore-11.3.0/lib64:/software/rome/r23.10/GMP/6.2.1-GCCcore-11.3.0/lib:/software/rome/r23.10/XZ/5.2.5-GCCcore-11.3.0/lib:/software/rome/r23.10/SQLite/3.38.3-GCCcore-11.3.0/lib:/software/rome/r23.10/Tcl/8.6.12-GCCcore-11.3.0/lib:/software/rome/r23.10/libreadline/8.1.2-GCCcore-11.3.0/lib:/software/rome/r23.10/ncurses/6.3-GCCcore-11.3.0/lib:/software/rome/r23.10/bzip2/1.0.8-GCCcore-11.3.0/lib:/software/rome/r23.10/binutils/2.38-GCCcore-11.3.0/lib:/software/rome/r23.10/zlib/1.2.12-GCCcore-11.3.0/lib:/software/rome/r23.10/GCCcore/11.3.0/lib64:/software/util/JupyterLab/alpha/jupyterlab-4.0.12/lib\n"
     ]
    }
   ],
   "source": [
    "import os\n",
    "print(\"LD_LIBRARY_PATH:\", os.environ[\"LD_LIBRARY_PATH\"])"
   ]
  },
  {
   "cell_type": "code",
   "execution_count": 27,
   "metadata": {
    "id": "ZVVG_SQrvFpe"
   },
   "outputs": [],
   "source": [
    "import os\n",
    "os.environ[\"TOKENIZERS_PARALLELISM\"] = \"false\"\n",
    "\n",
    "import sys\n",
    "# import argparse\n",
    "import json\n",
    "import warnings\n",
    "import logging\n",
    "warnings.filterwarnings(\"ignore\")\n",
    "\n",
    "import torch\n",
    "# import torch.nn as nn\n",
    "# import bitsandbytes as bnb\n",
    "# from datasets import load_dataset, load_from_disk\n",
    "from datasets import load_dataset\n",
    "import transformers\n",
    "from transformers import AutoTokenizer, AutoModelForCausalLM, BitsAndBytesConfig, GenerationConfig\n",
    "# import transformers, datasets\n",
    "# from peft import PeftModel\n",
    "# from colorama import *\n",
    "# from tqdm import tqdm\n",
    "# from transformers import AutoTokenizer, AutoConfig, AutoModelForCausalLM, BitsAndBytesConfig\n",
    "# from transformers import GenerationConfig\n",
    "\n",
    "from peft import (get_peft_model, LoraConfig, PeftModel, prepare_model_for_kbit_training, \n",
    "                  prepare_model_for_kbit_training)"
   ]
  },
  {
   "cell_type": "markdown",
   "metadata": {
    "id": "dCo1znQhpBdt"
   },
   "source": [
    "Download Dataset for Fine-tuning"
   ]
  },
  {
   "cell_type": "code",
   "execution_count": null,
   "metadata": {
    "colab": {
     "base_uri": "https://localhost:8080/"
    },
    "executionInfo": {
     "elapsed": 1717,
     "status": "ok",
     "timestamp": 1711613408070,
     "user": {
      "displayName": "HSI-CHE LIN",
      "userId": "18141338158123399452"
     },
     "user_tz": -480
    },
    "id": "7AI9jvvGtav2",
    "outputId": "467d77ec-58a2-422d-810a-f56ce94480ad"
   },
   "outputs": [],
   "source": [
    "# Download Training dataset\n",
    "# reference:https://github.com/chinese-poetry/chinese-poetry/tree/master/%E5%85%A8%E5%94%90%E8%AF%97?fbclid=IwAR2bM14S42T-VtrvMi3wywCqKfYJraBtMl7QVTo0qyPMjX9jj9Vj3JepFBA\n",
    "# !git clone https://github.com/CheeEn-Yu/GenAI-Hw5.git"
   ]
  },
  {
   "cell_type": "markdown",
   "metadata": {
    "id": "ESzwsaT9poC4"
   },
   "source": [
    "Fix Random Seeds"
   ]
  },
  {
   "cell_type": "code",
   "execution_count": 3,
   "metadata": {
    "id": "37Ra-OARteHI"
   },
   "outputs": [],
   "source": [
    "seed = 42\n",
    "torch.backends.cudnn.deterministic = True\n",
    "torch.backends.cudnn.benchmark = False\n",
    "torch.manual_seed(seed)\n",
    "if torch.cuda.is_available():\n",
    "    torch.cuda.manual_seed_all(seed)"
   ]
  },
  {
   "cell_type": "markdown",
   "metadata": {
    "id": "jTaVpMgzp3oC"
   },
   "source": [
    "Define Functions"
   ]
  },
  {
   "cell_type": "code",
   "execution_count": 21,
   "metadata": {
    "id": "dKjoLO3xtfM1"
   },
   "outputs": [],
   "source": [
    "# generate training data\n",
    "def generate_training_data(data_point):\n",
    "    \"\"\"\n",
    "    (1) Goal:\n",
    "        - This function is used to transform a data point (input and output texts) to tokens that our model can read\n",
    "\n",
    "    (2) Arguments:\n",
    "        - data_point: dict, with field \"instruction\", \"input\", and \"output\" which are all str\n",
    "\n",
    "    (3) Returns:\n",
    "        - a dict with model's input tokens, attention mask that make our model causal, and corresponding output targets\n",
    "\n",
    "    (3) Example:\n",
    "        - If you construct a dict, data_point_1, with field \"instruction\", \"input\", and \"output\" which are all str, you can use the function like this:\n",
    "            formulate_article(data_point_1)\n",
    "\n",
    "    \"\"\"\n",
    "    # construct full input prompt\n",
    "    prompt = f\"\"\"\\\n",
    "    You are a helpful assistant and good at writing Tang poem. 你是一個樂於助人的助手且擅長寫唐詩。\n",
    "    以下是一首唐詩的前兩句，請用你對唐詩的認識及延續前兩句敘述的意境完成整首詩。    \n",
    "    {data_point[\"input\"]}\n",
    "    \"\"\"\n",
    "    # count the number of input tokens\n",
    "    len_user_prompt_tokens = (\n",
    "        len(\n",
    "            tokenizer(\n",
    "                prompt,\n",
    "                truncation=True,\n",
    "                max_length=CUTOFF_LEN + 1,\n",
    "                padding=\"max_length\",\n",
    "            )[\"input_ids\"]\n",
    "        ) - 1\n",
    "    )\n",
    "    # transform input prompt into tokens\n",
    "    full_tokens = tokenizer(\n",
    "        # prompt + \" \" + data_point[\"output\"] + \"</s>\",\n",
    "        prompt + \" \" + data_point[\"output\"] + \"<|eot_id|>\",        \n",
    "        truncation=True,\n",
    "        max_length=CUTOFF_LEN + 1,\n",
    "        padding=\"max_length\",\n",
    "    )[\"input_ids\"][:-1]\n",
    "    return {\n",
    "        \"input_ids\": full_tokens,\n",
    "        \"labels\": [-100] * len_user_prompt_tokens\n",
    "        + full_tokens[len_user_prompt_tokens:],\n",
    "        \"attention_mask\": [1] * (len(full_tokens)),\n",
    "    }\n",
    "\n",
    "# evaluate results generated by the model\n",
    "def evaluate(instruction, generation_config, max_len, input=\"\"):\n",
    "    \"\"\"\n",
    "    (1) Goal:\n",
    "        - This function is used to get the model's output given input strings\n",
    "\n",
    "    (2) Arguments:\n",
    "        - instruction: str, description of what you want model to do\n",
    "        - generation_config: transformers.GenerationConfig object, to specify decoding parameters relating to model inference\n",
    "        - max_len: int, max length of model's output\n",
    "        - input: str, input string the model needs to solve the instruction, default is \"\" (no input)\n",
    "        - verbose: bool, whether to print the mode's output, default is True\n",
    "\n",
    "    (3) Returns:\n",
    "        - output: str, the mode's response according to the instruction and the input\n",
    "\n",
    "    (3) Example:\n",
    "        - If you the instruction is \"ABC\" and the input is \"DEF\" and you want model to give an answer under 128 tokens, you can use the function like this:\n",
    "            evaluate(instruction=\"ABC\", generation_config=generation_config, max_len=128, input=\"DEF\")\n",
    "\n",
    "    \"\"\"\n",
    "    # construct full input prompt\n",
    "    prompt = f\"\"\"\\\n",
    "    You are a helpful assistant and good at writing Tang poem. 你是一個樂於助人的助手且擅長寫唐詩。\n",
    "    {instruction}\n",
    "    {input}\"\"\"\n",
    "    \n",
    "    # prompt = f\"\"\"\\\n",
    "    # <|begin_of_text|><|start_header_id|>system<|end_header_id|>\n",
    "    # You are a helpful assistant and good at writing Tang poem. 你是一個樂於助人的助手且擅長寫唐詩。<|eot_id|><|start_header_id|>user<|end_header_id|>\n",
    "    # {instruction}\n",
    "    # {input}<|eot_id|>\"\"\"    \n",
    "    \n",
    "    # 將提示文本轉換為模型所需的數字表示形式\n",
    "    inputs = tokenizer(prompt, return_tensors=\"pt\")\n",
    "    input_ids = inputs[\"input_ids\"].cuda()\n",
    "    # 使用模型進行生成回覆\n",
    "    generation_output = model.generate(\n",
    "        input_ids=input_ids,\n",
    "        generation_config=generation_config,\n",
    "        return_dict_in_generate=True,\n",
    "        output_scores=True,\n",
    "        max_new_tokens=max_len,\n",
    "    )\n",
    "    # 將生成的回覆解碼並印出\n",
    "    for s in generation_output.sequences:\n",
    "        output = tokenizer.decode(s, skip_special_tokens=True)       \n",
    "    return output\n",
    "\n",
    "# load model\n",
    "def load_model(use_nf4_config: bool, model_name: str, cache_dir: str):\n",
    "    nf4_config = BitsAndBytesConfig(\n",
    "        load_in_4bit=True,\n",
    "        bnb_4bit_quant_type=\"nf4\",\n",
    "        bnb_4bit_use_double_quant=True,\n",
    "        bnb_4bit_compute_dtype=torch.bfloat16\n",
    "    )\n",
    "\n",
    "    if use_nf4_config:\n",
    "        model = AutoModelForCausalLM.from_pretrained(\n",
    "            model_name,\n",
    "            cache_dir=cache_dir,\n",
    "            quantization_config=nf4_config,\n",
    "            low_cpu_mem_usage = True,\n",
    "            device_map=\"auto\",\n",
    "        )\n",
    "    else:\n",
    "        model = AutoModelForCausalLM.from_pretrained(\n",
    "            model_name,\n",
    "            cache_dir=cache_dir,\n",
    "            load_in_8bit=True,\n",
    "            torch_dtype=torch.float16,\n",
    "            device_map=\"auto\",\n",
    "        )\n",
    "\n",
    "    return model  \n",
    "\n"
   ]
  },
  {
   "cell_type": "markdown",
   "metadata": {
    "id": "SNxuuclCqFf5"
   },
   "source": [
    "## Download model and inference before fine-tuning"
   ]
  },
  {
   "cell_type": "markdown",
   "metadata": {
    "id": "qmfEFM7TNuRC"
   },
   "source": [
    "The following code block takes about **10** minutes to run if you use the default setting, but it may vary depending on the condition of Colab."
   ]
  },
  {
   "cell_type": "code",
   "execution_count": 5,
   "metadata": {
    "colab": {
     "base_uri": "https://localhost:8080/"
    },
    "executionInfo": {
     "elapsed": 932577,
     "status": "ok",
     "timestamp": 1711619683208,
     "user": {
      "displayName": "HSI-CHE LIN",
      "userId": "18141338158123399452"
     },
     "user_tz": -480
    },
    "id": "stY76riONxSz",
    "outputId": "ce0908c2-17f6-4ebb-bcee-be0e3dafb970"
   },
   "outputs": [],
   "source": [
    "\"\"\" You may want (but not necessarily need) to change the LLM model \"\"\"\n",
    "\n",
    "model_name = \"./Meta-Llama-3-8B-Instruct\"    \n",
    "# model_name = \"/content/TAIDE-LX-7B-Chat\"                            # 設定想要用來進行fine-tune的模型，預設是使用TAIDE 7B的模型\n",
    "#model_name = \"MediaTek-Research/Breeze-7B-Instruct-v0_1\"   # 若想選擇使用MediaTek Breeze 7B的模型，可以將這行最前面的 \"#\" 刪除，並把底下 \"!\" 開頭的兩行刪除\n",
    "\n",
    "# If you want to use the TAIDE model, you should check out the TAIDE L Models Community License Agreement (https://drive.google.com/file/d/1FcUZjbUH6jr4xoCyAronN_slLgcdhEUd/view) first.\n",
    "# Once you use it, it means you agree to the terms of the agreement.\n",
    "# !wget -O taide_7b.zip \"https://www.dropbox.com/scl/fi/harnetdwx2ttq1xt94rin/TAIDE-LX-7B-Chat.zip?rlkey=yzyf5nxztw6farpwyyildx5s3&st=s22mz5ao&dl=0\"\n",
    "\n",
    "# !unzip taide_7b.zip"
   ]
  },
  {
   "cell_type": "markdown",
   "metadata": {
    "id": "DFq6WXaBnxYq"
   },
   "source": [
    "## Inference before Fine-tuning\n",
    "Let's first see what our model can do without fine-tuning."
   ]
  },
  {
   "cell_type": "markdown",
   "metadata": {
    "id": "ox5QRpz4NiPg"
   },
   "source": [
    "The following code block takes about **2** minutes to run if you use the default setting, but it may vary depending on the condition of Colab."
   ]
  },
  {
   "cell_type": "code",
   "execution_count": 22,
   "metadata": {
    "id": "e1sFQbHGn3Bw"
   },
   "outputs": [
    {
     "name": "stderr",
     "output_type": "stream",
     "text": [
      "Loading checkpoint shards: 100%|██████████| 4/4 [00:10<00:00,  2.53s/it]\n"
     ]
    }
   ],
   "source": [
    "cache_dir = \"./cache\"\n",
    "use_nf4_config = False  # or True to enable\n",
    "\n",
    "# 創建 tokenizer 並設定結束符號 (eos_token)\n",
    "logging.getLogger('transformers').setLevel(logging.ERROR)\n",
    "tokenizer = AutoTokenizer.from_pretrained(\n",
    "    model_name,\n",
    "    add_eos_token=True,\n",
    "    cache_dir=cache_dir,\n",
    "    quantization_config=nf4_config\n",
    ")\n",
    "# tokenizer.pad_token = tokenizer.eos_token\n",
    "\n",
    "model = load_model(use_nf4_config, model_name, cache_dir)\n",
    "\n",
    "# 設定模型推理時需要用到的decoding parameters\n",
    "# max_len = 128\n",
    "max_len = 1024\n",
    "generation_config = GenerationConfig(\n",
    "    do_sample=True,\n",
    "    temperature=0.1,\n",
    "    num_beams=1,\n",
    "    top_p=0.3,\n",
    "    no_repeat_ngram_size=3,\n",
    "    pad_token_id=2,\n",
    ")"
   ]
  },
  {
   "cell_type": "markdown",
   "metadata": {
    "id": "0LyTYIcDOAkO"
   },
   "source": [
    "## TO see\n",
    "The following code block takes about **1** minutes to run if you use the default setting, but it may vary depending on the condition of Colab."
   ]
  },
  {
   "cell_type": "code",
   "execution_count": 20,
   "metadata": {
    "colab": {
     "base_uri": "https://localhost:8080/"
    },
    "executionInfo": {
     "elapsed": 46945,
     "status": "ok",
     "timestamp": 1711619794209,
     "user": {
      "displayName": "HSI-CHE LIN",
      "userId": "18141338158123399452"
     },
     "user_tz": -480
    },
    "id": "QJyuoPoO2TCr",
    "outputId": "47c872d9-6954-4345-d082-cccd5faec3c1"
   },
   "outputs": [
    {
     "name": "stdout",
     "output_type": "stream",
     "text": [
      "Example 1:\n",
      "模型輸入:\n",
      "以下是一首唐詩的前兩句話，請用你的知識判斷並完成整首詩。相見時難別亦難，東風無力百花殘。\n",
      "\n",
      "模型輸出:\n",
      "<|begin_of_text|>    You are a helpful assistant and good at writing Tang poem. 你是一個樂於助人的助手且擅長寫唐詩。\n",
      "    以下是一首唐詩的前兩句，請用你對唐詩的認識及延續前兩句敘述的意境，決定長度，用正體中文完成這首唐詩。\n",
      "    相見時難別亦難，東風無力百花殘。\n",
      "\n",
      "\n",
      "Translation:\n",
      "You are a diligent assistant and skilled at writing a Tang poem.\n",
      "\n",
      "Here is the first two lines of a Tang poetry, please use your knowledge of Tang poetry and extend the poem to complete it, using traditional Chinese characters.\n",
      "\n",
      "When we meet, it's hard to part, yet hard to stay; the east wind is powerless against the withered flowers.\n",
      "\n",
      "Please complete the poem.<|eot_id|>\n",
      "--------------------------------------------------------------------------------\n"
     ]
    }
   ],
   "source": [
    "# demo examples\n",
    "# test_tang_list = ['相見時難別亦難，東風無力百花殘。', '重帷深下莫愁堂，臥後清宵細細長。', '芳辰追逸趣，禁苑信多奇。']\n",
    "test_tang_list = ['相見時難別亦難，東風無力百花殘。']\n",
    "\n",
    "\n",
    "# get the model output for each examples\n",
    "demo_before_finetune = []\n",
    "for tang in test_tang_list:\n",
    "  demo_before_finetune.append(f'模型輸入:\\n以下是一首唐詩的前兩句話，請用你的知識判斷並完成整首詩。{tang}\\n\\n模型輸出:\\n'+evaluate('以下是一首唐詩的前兩句，請用你對唐詩的認識及延續前兩句敘述的意境，決定長度，用正體中文完成這首唐詩。', generation_config, max_len, tang))\n",
    "\n",
    "# print and store the output to text file\n",
    "for idx in range(len(demo_before_finetune)):\n",
    "  print(f\"Example {idx + 1}:\")\n",
    "  print(demo_before_finetune[idx])\n",
    "  print(\"-\" * 80)\n"
   ]
  },
  {
   "cell_type": "markdown",
   "metadata": {
    "id": "Stf_U-9FqPjZ"
   },
   "source": [
    "## Set Hyperarameters for Fine-tuning\n",
    "\n"
   ]
  },
  {
   "cell_type": "code",
   "execution_count": 23,
   "metadata": {
    "id": "Q2ilhBGhTDtU"
   },
   "outputs": [],
   "source": [
    "\"\"\" It is highly recommended you try to play around this hyperparameter \"\"\"\n",
    "\n",
    "num_train_data = 5000 # 設定用來訓練的資料數量，可設置的最大值為5000。在大部分情況下會希望訓練資料盡量越多越好，這會讓模型看過更多樣化的詩句，進而提升生成品質，但是也會增加訓練的時間\n",
    "                      # 使用預設參數(1040): fine-tuning大約需要25分鐘，完整跑完所有cell大約需要50分鐘\n",
    "                      # 使用最大值(5000): fine-tuning大約需要100分鐘，完整跑完所有cell大約需要120分鐘"
   ]
  },
  {
   "cell_type": "code",
   "execution_count": 24,
   "metadata": {
    "id": "c1fbknrxXu3C"
   },
   "outputs": [],
   "source": [
    "\"\"\" You may want (but not necessarily need) to change some of these hyperparameters \"\"\"\n",
    "\n",
    "output_dir = \"./Llama3_8B/results\"  # 設定作業結果輸出目錄 (如果想要把作業結果存在其他目錄底下可以修改這裡，強烈建議存在預設值的子目錄下，也就是Google Drive裡)\n",
    "ckpt_dir = \"./Llama3_8B/checkpoints\" # 設定model checkpoint儲存目錄 (如果想要將model checkpoints存在其他目錄下可以修改這裡)\n",
    "num_epoch = 3  # 設定訓練的總Epoch數 (數字越高，訓練越久，若使用免費版的colab需要注意訓練太久可能會斷線)\n",
    "LEARNING_RATE = 3e-4  # 設定學習率"
   ]
  },
  {
   "cell_type": "code",
   "execution_count": 25,
   "metadata": {
    "id": "oorrZOKpthsm"
   },
   "outputs": [],
   "source": [
    "\"\"\" It is recommmended NOT to change codes in this cell \"\"\"\n",
    "\n",
    "cache_dir = \"./cache\"  # 設定快取目錄路徑\n",
    "from_ckpt = False  # 是否從checkpoint載入模型的權重，預設為否\n",
    "# ckpt_name = \"./GenAI-Hw5/checkpoints/checkpoint-780\" # 從特定checkpoint載入權重時使用的檔案名稱，預設為無\n",
    "ckpt_name = None  # 從特定checkpoint載入權重時使用的檔案名稱，預設為無\n",
    "dataset_dir = \"./GenAI-Hw5/Tang_training_data.json\"  # 設定資料集的目錄或檔案路徑\n",
    "logging_steps = 20  # 定義訓練過程中每隔多少步驟輸出一次訓練誌\n",
    "save_steps = 65  # 定義訓練過程中每隔多少步驟保存一次模型\n",
    "save_total_limit = 3  # 控制最多保留幾個模型checkpoint\n",
    "report_to = None  # 設定上報實驗指標的目標，預設為無\n",
    "MICRO_BATCH_SIZE = 4  # 定義微批次的大小\n",
    "BATCH_SIZE = 16  # 定義一個批次的大小\n",
    "GRADIENT_ACCUMULATION_STEPS = BATCH_SIZE // MICRO_BATCH_SIZE  # 計算每個微批次累積的梯度步數\n",
    "CUTOFF_LEN = 256  # 設定文本截斷的最大長度\n",
    "LORA_R = 8  # 設定LORA（Layer-wise Random Attention）的R值\n",
    "LORA_ALPHA = 16  # 設定LORA的Alpha值\n",
    "LORA_DROPOUT = 0.05  # 設定LORA的Dropout率\n",
    "VAL_SET_SIZE = 0  # 設定驗證集的大小，預設為無\n",
    "TARGET_MODULES = [\"q_proj\", \"up_proj\", \"o_proj\", \"k_proj\", \"down_proj\", \"gate_proj\", \"v_proj\"] # 設定目標模組，這些模組的權重將被保存為checkpoint\n",
    "device_map = \"auto\"  # 設定設備映射，預設為\"auto\"\n",
    "world_size = int(os.environ.get(\"WORLD_SIZE\", 1))  # 獲取環境變數\"WORLD_SIZE\"的值，若未設定則預設為1\n",
    "ddp = world_size != 1  # 根據world_size判斷是否使用分散式數據處理(DDP)，若world_size為1則不使用DDP\n",
    "if ddp:\n",
    "    device_map = {\"\": int(os.environ.get(\"LOCAL_RANK\") or 0)}\n",
    "    GRADIENT_ACCUMULATION_STEPS = GRADIENT_ACCUMULATION_STEPS // world_size"
   ]
  },
  {
   "cell_type": "markdown",
   "metadata": {
    "id": "REMmOD6L4tp9"
   },
   "source": [
    "## Start Fine-tuning"
   ]
  },
  {
   "cell_type": "markdown",
   "metadata": {
    "id": "RkOt2hDhR4lG"
   },
   "source": [
    "The following code block takes about **25** minutes to run if you use the default setting, but it may vary depending on the condition of Colab."
   ]
  },
  {
   "cell_type": "code",
   "execution_count": null,
   "metadata": {
    "colab": {
     "base_uri": "https://localhost:8080/",
     "height": 355,
     "referenced_widgets": [
      "c82f4fa9451a43f2bf0dae4f29eb9a5e",
      "8e4e651a80554194be7ef50b28e4fb72",
      "7a336a53555a4ee5924b59a2fb5be7d9",
      "6c5b504fd8a7482a9c72c47edb13e653",
      "030573c827d44e8f82d489e19a567d73",
      "42b470f4cb6b430e986cde2a732ae1bf",
      "ce57d1252b2043138ddfaff3823fe283",
      "07d88c90cec640f3ae6c19a46be81d4b",
      "67bcf0c9b6bf4b18a5a318ce60f5b544",
      "895ad55bc1074f6cbbbcb4174e9bc0cd",
      "f75b54c99e4d446e8a9701d98a4eaff7",
      "01abe8edec2c406d81d13640c47af819",
      "b325f6ee7f964b57947f3fa936ef5bf4",
      "673946a2e8f84e62b4021faa5f80dd54",
      "7d3e1029aeb54fb5ac54c045df577bd8",
      "3d9c12c308ef4b6eaacc2facdc0c68a0",
      "b038219c15774af6b67782d33545b294",
      "3dd1186fcd6142b6b025c1e38c6c6430",
      "2b3f31bf14bb4468a783458a3a094ab2",
      "8c31778d327a4fd68cc66aee90e74c4e",
      "8ea6414f11b440b694b236c8fb5cda61",
      "1944808fd31a4743b3aa9ee628e0f517",
      "31fcea3231644a9abcc196aa0ca1ae6b",
      "1ccb4257e9fc4b37b83b3c2398883a6e",
      "05a9978906a54a66be755d943bfcd77b",
      "6a541491d8ad498c8ee6002a490c6bc7",
      "c035eb0d541744e7ae12e9bac4fc3552",
      "fc9cff826c514d548f4a612351e963cb",
      "2374eb31be5b4d7f8f607844b3effedc",
      "a254416d90f4439eaf64ea9dc4e09cf5",
      "876a4f1972ac4206a13d57142a850128",
      "f08d706b3ef9486383d12ad5d37bd622",
      "c34204d7afd74e2fbb9f31082ae759ec",
      "2869cbfa8c69460785221af61c23561c",
      "421d83680d714ae19eb3ffef4175d9f2",
      "db50cca2cf90410fb8b2c643c760a4d4",
      "470c01d48ee9431d87257020d8f0bef3",
      "be54503f2793416a8d6321a28983c31d",
      "ad1e879ea0f64871839ee6b3bda0882c",
      "377a892ebfb74b6faf3ba364df2c3c79",
      "13b547710721495d9208e57ada20c5f5",
      "1e4c8bbbc92a459b953fe741be83d132",
      "a72fdbc5e3ce40fd88e7135bcdfb9ee8",
      "a2a19d258b9e419cbb22fe5934efdf64",
      "12eaca9babad41aca6d282efd99eb871",
      "c54cb4ab8b0640c3b53367fb51d53075",
      "08a016858a4f444bab67bf60e2ac7363",
      "3a4a22f41304444c9f10854cc60e3ae0",
      "4192754827f24c0eb33a4e8f86ab94e5",
      "1e66e0ceab89438386d8c1aa494af916",
      "d16cf8c1424043f0b2734dacecf1165e",
      "2f673c45b2e24ea2a6cf73b2fe4c53cf",
      "45b5098d78c84bc2a3596249737be3fa",
      "ca6c4246f63e49e895bab9d6fcf04cdb",
      "78462ffc2b7941a5a76dc50db0b54d52"
     ]
    },
    "executionInfo": {
     "elapsed": 1117701,
     "status": "ok",
     "timestamp": 1711615064372,
     "user": {
      "displayName": "HSI-CHE LIN",
      "userId": "18141338158123399452"
     },
     "user_tz": -480
    },
    "id": "6W-xe7h9ti0x",
    "outputId": "de38b13d-a039-4227-9893-e5985796ee23"
   },
   "outputs": [
    {
     "name": "stderr",
     "output_type": "stream",
     "text": [
      "Generating train split: 5000 examples [00:00, 66322.75 examples/s]\n",
      "Map: 100%|██████████| 5000/5000 [00:03<00:00, 1503.93 examples/s]\n",
      "Detected kernel version 4.18.0, which is below the recommended minimum of 5.5.0; this can cause the process to hang. It is recommended to upgrade the kernel to the minimum version or higher.\n"
     ]
    },
    {
     "name": "stdout",
     "output_type": "stream",
     "text": [
      "{'loss': 3.4707, 'grad_norm': 3.135906219482422, 'learning_rate': 0.00011999999999999999, 'epoch': 0.064}\n",
      "{'loss': 1.8958, 'grad_norm': 1.6091606616973877, 'learning_rate': 0.00023999999999999998, 'epoch': 0.128}\n",
      "{'loss': 1.7298, 'grad_norm': 0.9544621706008911, 'learning_rate': 0.0002966139954853273, 'epoch': 0.192}\n",
      "{'loss': 1.6817, 'grad_norm': 0.8073190450668335, 'learning_rate': 0.0002898419864559819, 'epoch': 0.256}\n",
      "{'loss': 1.6914, 'grad_norm': 0.847938597202301, 'learning_rate': 0.00028306997742663653, 'epoch': 0.32}\n"
     ]
    }
   ],
   "source": [
    "\"\"\" It is recommmended NOT to change codes in this cell \"\"\"\n",
    "\n",
    "# create the output directory you specify\n",
    "os.makedirs(output_dir, exist_ok = True)\n",
    "os.makedirs(ckpt_dir, exist_ok = True)\n",
    "\n",
    "# 根據 from_ckpt 標誌，從 checkpoint 載入模型權重\n",
    "if from_ckpt:\n",
    "    model = PeftModel.from_pretrained(model, ckpt_name)\n",
    "\n",
    "# 將模型準備好以使用 INT8 訓練\n",
    "model = prepare_model_for_kbit_training(model)\n",
    "\n",
    "# 使用 LoraConfig 配置 LORA 模型\n",
    "config = LoraConfig(\n",
    "    r=LORA_R,\n",
    "    lora_alpha=LORA_ALPHA,\n",
    "    target_modules=TARGET_MODULES,\n",
    "    lora_dropout=LORA_DROPOUT,\n",
    "    bias=\"none\",\n",
    "    task_type=\"CAUSAL_LM\",\n",
    ")\n",
    "model = get_peft_model(model, config)\n",
    "\n",
    "# Setup some tokenization settings\n",
    "tokenizer.pad_token_id = 0\n",
    "tokenizer.padding_side = \"left\"\n",
    "\n",
    "# 載入並處理訓練數據\n",
    "with open(dataset_dir, \"r\", encoding = \"utf-8\") as f:\n",
    "    data_json = json.load(f)\n",
    "with open(\"tmp_dataset.json\", \"w\", encoding = \"utf-8\") as f:\n",
    "    json.dump(data_json[:num_train_data], f, indent = 2, ensure_ascii = False)\n",
    "\n",
    "data = load_dataset('json', data_files=\"tmp_dataset.json\", download_mode=\"force_redownload\")\n",
    "\n",
    "# 將訓練數據分為訓練集和驗證集（若 VAL_SET_SIZE 大於 0）\n",
    "if VAL_SET_SIZE > 0:\n",
    "    train_val = data[\"train\"].train_test_split(\n",
    "        test_size=VAL_SET_SIZE, shuffle=True, seed=42\n",
    "    )\n",
    "    train_data = train_val[\"train\"].shuffle().map(generate_training_data)\n",
    "    val_data = train_val[\"test\"].shuffle().map(generate_training_data)\n",
    "else:\n",
    "    train_data = data['train'].shuffle().map(generate_training_data)\n",
    "    val_data = None\n",
    "\n",
    "# 使用 Transformers Trainer 進行模型訓練\n",
    "trainer = transformers.Trainer(\n",
    "    model=model,\n",
    "    train_dataset=train_data,\n",
    "    eval_dataset=val_data,\n",
    "    args=transformers.TrainingArguments(\n",
    "        per_device_train_batch_size=MICRO_BATCH_SIZE,\n",
    "        gradient_accumulation_steps=GRADIENT_ACCUMULATION_STEPS,\n",
    "        warmup_steps=50,\n",
    "        num_train_epochs=num_epoch,\n",
    "        learning_rate=LEARNING_RATE,\n",
    "        fp16=True,  # 使用混合精度訓練\n",
    "        logging_steps=logging_steps,\n",
    "        save_strategy=\"steps\",\n",
    "        save_steps=save_steps,\n",
    "        output_dir=ckpt_dir,\n",
    "        save_total_limit=save_total_limit,\n",
    "        ddp_find_unused_parameters=False if ddp else None,  # 是否使用 DDP，控制梯度更新策略\n",
    "        report_to=report_to,\n",
    "    ),\n",
    "    data_collator=transformers.DataCollatorForLanguageModeling(tokenizer, mlm=False),\n",
    ")\n",
    "\n",
    "# 禁用模型的 cache 功能\n",
    "model.config.use_cache = False\n",
    "\n",
    "# 若使用 PyTorch 2.0 版本以上且非 Windows 系統，進行模型編譯\n",
    "if torch.__version__ >= \"2\" and sys.platform != 'win32':\n",
    "    model = torch.compile(model)\n",
    "\n",
    "# 開始模型訓練\n",
    "trainer.train()\n",
    "\n",
    "# 將訓練完的模型保存到指定的目錄中\n",
    "model.save_pretrained(ckpt_dir)\n",
    "\n",
    "# 印出訓練過程中可能的缺失權重的警告信息\n",
    "print(\"\\n If there's a warning about missing keys above, please disregard :)\")"
   ]
  },
  {
   "cell_type": "markdown",
   "metadata": {
    "id": "EKeGb8bRqWux"
   },
   "source": [
    "##  Testing\n",
    "The fine-tuning process is done. We then want to test whether our model can do the task that we wanted it to do before but failed."
   ]
  },
  {
   "cell_type": "markdown",
   "metadata": {
    "id": "v8I3stApnTWb"
   },
   "source": [
    "We need to first load the fine-tuned model for checkpoint we saved."
   ]
  },
  {
   "cell_type": "code",
   "execution_count": 11,
   "metadata": {
    "colab": {
     "base_uri": "https://localhost:8080/"
    },
    "executionInfo": {
     "elapsed": 6,
     "status": "ok",
     "timestamp": 1711615064373,
     "user": {
      "displayName": "HSI-CHE LIN",
      "userId": "18141338158123399452"
     },
     "user_tz": -480
    },
    "id": "5ag6GvOCe9Ql",
    "outputId": "11d9bb8e-b6c8-4ee1-e905-28e259b6f6a6"
   },
   "outputs": [
    {
     "name": "stdout",
     "output_type": "stream",
     "text": [
      "all available checkpoints:\n",
      " id: checkpoint name\n",
      "  0: checkpoint-780\n",
      "  1: checkpoint-845\n",
      "  2: checkpoint-910\n"
     ]
    }
   ],
   "source": [
    "\"\"\" It is recommmended NOT to change codes in this cell \"\"\"\n",
    "\n",
    "# find all available checkpoints\n",
    "ckpts = []\n",
    "for ckpt in os.listdir(ckpt_dir):\n",
    "    if (ckpt.startswith(\"checkpoint-\")):\n",
    "        ckpts.append(ckpt)\n",
    "\n",
    "# list all the checkpoints\n",
    "ckpts = sorted(ckpts, key = lambda ckpt: int(ckpt.split(\"-\")[-1]))\n",
    "print(\"all available checkpoints:\")\n",
    "print(\" id: checkpoint name\")\n",
    "for (i, ckpt) in enumerate(ckpts):\n",
    "    print(f\"{i:>3}: {ckpt}\")\n"
   ]
  },
  {
   "cell_type": "code",
   "execution_count": 12,
   "metadata": {
    "id": "khq-LbNlcdfp"
   },
   "outputs": [],
   "source": [
    "\"\"\" You may want (but not necessarily need) to change the check point \"\"\"\n",
    "\n",
    "id_of_ckpt_to_use = -1  # 要用來進行推理的checkpoint的id(對應上一個cell的輸出結果)\n",
    "                        # 預設值-1指的是上列checkpoints中的\"倒數\"第一個，也就是最後一個checkpoint\n",
    "                        # 如果想要選擇其他checkpoint，可以把-1改成有列出的checkpoint id中的其中一個\n",
    "\n",
    "ckpt_name = os.path.join(ckpt_dir, ckpts[id_of_ckpt_to_use])"
   ]
  },
  {
   "cell_type": "code",
   "execution_count": 13,
   "metadata": {
    "id": "vdO5i3X3bTus"
   },
   "outputs": [],
   "source": [
    "\"\"\" You may want (but not necessarily need) to change decoding parameters \"\"\"\n",
    "# 你可以在這裡調整decoding parameter，decoding parameter的詳細解釋請見homework slides\n",
    "max_len = 2048   # 生成回復的最大長度\n",
    "temperature = 0.1  # 設定生成回覆的隨機度，值越小生成的回覆越穩定\n",
    "top_p = 0.3  # Top-p (nucleus) 抽樣的機率閾值，用於控制生成回覆的多樣性\n",
    "# top_k = 5 # 調整Top-k值，以增加生成回覆的多樣性和避免生成重複的詞彙"
   ]
  },
  {
   "cell_type": "markdown",
   "metadata": {
    "id": "xTr0DfVBSekD"
   },
   "source": [
    "The following code block takes about **2** minutes to run if you use the default setting, but it may vary depending on the condition of Colab."
   ]
  },
  {
   "cell_type": "code",
   "execution_count": 14,
   "metadata": {
    "id": "-wKVPpMVtkql"
   },
   "outputs": [
    {
     "data": {
      "application/vnd.jupyter.widget-view+json": {
       "model_id": "4907495b584f45de8d32714bf04818e1",
       "version_major": 2,
       "version_minor": 0
      },
      "text/plain": [
       "Loading checkpoint shards:   0%|          | 0/4 [00:00<?, ?it/s]"
      ]
     },
     "metadata": {},
     "output_type": "display_data"
    }
   ],
   "source": [
    "\"\"\" It is recommmended NOT to change codes in this cell \"\"\"\n",
    "\n",
    "test_data_path = \"GenAI-Hw5/Tang_testing_data.json\"\n",
    "output_path = os.path.join(output_dir, \"results.txt\")\n",
    "\n",
    "cache_dir = \"./cache\"  # 設定快取目錄路徑\n",
    "seed = 42  # 設定隨機種子，用於重現結果\n",
    "no_repeat_ngram_size = 3  # 設定禁止重複 Ngram 的大小，用於避免生成重複片段\n",
    "\n",
    "nf4_config = BitsAndBytesConfig(\n",
    "   load_in_4bit=True,\n",
    "   bnb_4bit_quant_type=\"nf4\",\n",
    "   bnb_4bit_use_double_quant=True,\n",
    "   bnb_4bit_compute_dtype=torch.bfloat16\n",
    ")\n",
    "\n",
    "# 使用 tokenizer 將模型名稱轉換成模型可讀的數字表示形式\n",
    "tokenizer = AutoTokenizer.from_pretrained(\n",
    "    model_name,\n",
    "    cache_dir=cache_dir,\n",
    "    quantization_config=nf4_config\n",
    ")\n",
    "\n",
    "# 從預訓練模型載入模型並設定為 8 位整數 (INT8) 模型\n",
    "model = AutoModelForCausalLM.from_pretrained(\n",
    "    model_name,\n",
    "    quantization_config=nf4_config,\n",
    "    device_map = 'auto', \n",
    "    cache_dir = cache_dir\n",
    ")\n",
    "\n",
    "# 從指定的 checkpoint 載入模型權重\n",
    "model = PeftModel.from_pretrained(model, ckpt_name, device_map={'': 0})"
   ]
  },
  {
   "cell_type": "markdown",
   "metadata": {
    "id": "Vs4_EtnoWA5b"
   },
   "source": [
    "The following code block takes about **4** minutes to run if you use the default setting, but it may vary depending on the condition of Colab."
   ]
  },
  {
   "cell_type": "code",
   "execution_count": null,
   "metadata": {
    "id": "xcHoU2X8xRkn",
    "scrolled": true
   },
   "outputs": [],
   "source": [
    "\"\"\" It is recommmended NOT to change codes in this cell \"\"\"\n",
    "\n",
    "results = []\n",
    "\n",
    "# 設定生成配置，包括隨機度、束搜索等相關參數\n",
    "generation_config = GenerationConfig(\n",
    "    do_sample=True,\n",
    "    temperature=temperature,\n",
    "    num_beams=1,\n",
    "    top_p=top_p,\n",
    "    # top_k=top_k,\n",
    "    no_repeat_ngram_size=no_repeat_ngram_size,\n",
    "    pad_token_id=2\n",
    ")\n",
    "\n",
    "# 讀取測試資料\n",
    "with open(test_data_path, \"r\", encoding = \"utf-8\") as f:\n",
    "    test_datas = json.load(f)\n",
    "\n",
    "# 對於每個測試資料進行預測，並存下結果\n",
    "with open(output_path, \"w\", encoding = \"utf-8\") as f:\n",
    "  for (i, test_data) in enumerate(test_datas):\n",
    "      predict = evaluate(test_data[\"instruction\"], generation_config, max_len, test_data[\"input\"])\n",
    "      f.write(f\"{i+1}. \"+test_data[\"input\"]+predict+\"\\n\")\n",
    "      print(f\"{i+1}. \"+test_data[\"input\"]+predict)\n"
   ]
  },
  {
   "cell_type": "markdown",
   "metadata": {
    "id": "1tJT1WINKXV7"
   },
   "source": [
    "## **IMPORTANT**: Submit above 15 poems to DaVinci Assistant.\n",
    "You can find these poems in your \"results.txt\". The grading of this homework will be based on the evaluation results of DaVinci Assistant on these poems."
   ]
  },
  {
   "cell_type": "markdown",
   "metadata": {
    "id": "sT78LeWaJM4D"
   },
   "source": [
    "## See how the fine-tune model do compared to model without fine-tuning"
   ]
  },
  {
   "cell_type": "markdown",
   "metadata": {
    "id": "tx_mZZAZWdiE"
   },
   "source": [
    "We now check what our model can do on the same examples we saw in the \"Inference before Fine-tuning\" section above.\n",
    "\n",
    "The following code block takes about **40** seconds to run if you use the default setting, but it may vary depending on the condition of Colab."
   ]
  },
  {
   "cell_type": "code",
   "execution_count": 15,
   "metadata": {
    "colab": {
     "base_uri": "https://localhost:8080/"
    },
    "executionInfo": {
     "elapsed": 9947,
     "status": "ok",
     "timestamp": 1711615201622,
     "user": {
      "displayName": "HSI-CHE LIN",
      "userId": "18141338158123399452"
     },
     "user_tz": -480
    },
    "id": "BtDG2WhIWZlS",
    "outputId": "04870472-0897-4d24-8660-477c68025b34"
   },
   "outputs": [
    {
     "name": "stdout",
     "output_type": "stream",
     "text": [
      "Example 1:\n",
      "模型輸入:\n",
      "以下是一首唐詩的前兩句話，請用你的知識判斷並完成整首詩。相見時難別亦難，東風無力百花殘。\n",
      "\n",
      "模型輸出:\n",
      "You are a helpful assistant and good at writing Tang poem. 你是一個樂於助人的助手且擅長寫唐詩。\n",
      "    以下是一首唐詩的前兩句，請用你對唐詩的認識及延續前兩句敘述的意境完成整首詩。\n",
      "    相見時難別亦難，東風無力百花殘。<|end_of_text|>\n",
      "--------------------------------------------------------------------------------\n",
      "Example 2:\n",
      "模型輸入:\n",
      "以下是一首唐詩的前兩句話，請用你的知識判斷並完成整首詩。重帷深下莫愁堂，臥後清宵細細長。\n",
      "\n",
      "模型輸出:\n",
      "You are a helpful assistant and good at writing Tang poem. 你是一個樂於助人的助手且擅長寫唐詩。\n",
      "    以下是一首唐詩的前兩句，請用你對唐詩的認識及延續前兩句敘述的意境完成整首詩。\n",
      "    重帷深下莫愁堂，臥後清宵細細長。<|end_of_text|>\n",
      "--------------------------------------------------------------------------------\n",
      "Example 3:\n",
      "模型輸入:\n",
      "以下是一首唐詩的前兩句話，請用你的知識判斷並完成整首詩。芳辰追逸趣，禁苑信多奇。\n",
      "\n",
      "模型輸出:\n",
      "You are a helpful assistant and good at writing Tang poem. 你是一個樂於助人的助手且擅長寫唐詩。\n",
      "    以下是一首唐詩的前兩句，請用你對唐詩的認識及延續前兩句敘述的意境完成整首詩。\n",
      "    芳辰追逸趣，禁苑信多奇。春色分三逕，花香隔萬枝。\n",
      "     鳴鐘過水去，拂石上山低。欲識仙人處，雲霞自相隨。<|end_of_text|>\n",
      "--------------------------------------------------------------------------------\n"
     ]
    }
   ],
   "source": [
    "# using the same demo examples as before\n",
    "test_tang_list = ['相見時難別亦難，東風無力百花殘。', '重帷深下莫愁堂，臥後清宵細細長。', '芳辰追逸趣，禁苑信多奇。']\n",
    "\n",
    "# inference our fine-tuned model\n",
    "demo_after_finetune = []\n",
    "for tang in test_tang_list:\n",
    "  demo_after_finetune.append(f'模型輸入:\\n以下是一首唐詩的前兩句話，請用你的知識判斷並完成整首詩。{tang}\\n\\n模型輸出:\\n'+evaluate('以下是一首唐詩的前兩句，請用你對唐詩的認識及延續前兩句敘述的意境完成整首詩。', generation_config, max_len, tang, verbose = False))\n",
    "\n",
    "# print and store the output to text file\n",
    "for idx in range(len(demo_after_finetune)):\n",
    "  print(f\"Example {idx + 1}:\")\n",
    "  print(demo_after_finetune[idx])\n",
    "  print(\"-\" * 80)\n"
   ]
  },
  {
   "cell_type": "markdown",
   "metadata": {
    "id": "wagFeDX4Hpa8"
   },
   "source": [
    "## **IMPORTANT**: DO NOT submit the above 3 examples to DaVinci Assistant.\n",
    "This 3 examples are only used for comparing how model peforms before and after fine-tuning\n"
   ]
  },
  {
   "cell_type": "markdown",
   "metadata": {
    "id": "OWgTS13bgnWQ"
   },
   "source": [
    "## Download Results\n",
    "You MUST have this file to finish your homework. If your browser does not download it automatically, you can find it in your Google Drive."
   ]
  },
  {
   "cell_type": "code",
   "execution_count": null,
   "metadata": {
    "colab": {
     "base_uri": "https://localhost:8080/",
     "height": 34
    },
    "executionInfo": {
     "elapsed": 9,
     "status": "ok",
     "timestamp": 1711615201623,
     "user": {
      "displayName": "HSI-CHE LIN",
      "userId": "18141338158123399452"
     },
     "user_tz": -480
    },
    "id": "rUDuNQOY4os_",
    "outputId": "0d938a6b-7b3a-4a9d-f5c7-2d1fbd86d909"
   },
   "outputs": [],
   "source": [
    "from google.colab import files\n",
    "files.download(output_path)"
   ]
  },
  {
   "cell_type": "markdown",
   "metadata": {
    "id": "PpkNFzvLz7iI"
   },
   "source": [
    "## Reference\n",
    "\n",
    "[Tang Poem Dataset](https://github.com/chinese-poetry/chinese-poetry/tree/master/%E5%85%A8%E5%94%90%E8%AF%97?fbclid=IwAR2bM14S42T-VtrvMi3wywCqKfYJraBtMl7QVTo0qyPMjX9jj9Vj3JepFBA)"
   ]
  }
 ],
 "metadata": {
  "accelerator": "GPU",
  "colab": {
   "gpuType": "T4",
   "provenance": [
    {
     "file_id": "1nB3jwRJVKXSDDNO-pbURrao0N2MpqHl8",
     "timestamp": 1716442053905
    }
   ]
  },
  "kernelspec": {
   "display_name": "llm-kernel",
   "language": "python",
   "name": "llm-kernel"
  },
  "language_info": {
   "codemirror_mode": {
    "name": "ipython",
    "version": 3
   },
   "file_extension": ".py",
   "mimetype": "text/x-python",
   "name": "python",
   "nbconvert_exporter": "python",
   "pygments_lexer": "ipython3",
   "version": "3.10.4"
  },
  "widgets": {
   "application/vnd.jupyter.widget-state+json": {
    "01abe8edec2c406d81d13640c47af819": {
     "model_module": "@jupyter-widgets/controls",
     "model_module_version": "1.5.0",
     "model_name": "HBoxModel",
     "state": {
      "_dom_classes": [],
      "_model_module": "@jupyter-widgets/controls",
      "_model_module_version": "1.5.0",
      "_model_name": "HBoxModel",
      "_view_count": null,
      "_view_module": "@jupyter-widgets/controls",
      "_view_module_version": "1.5.0",
      "_view_name": "HBoxView",
      "box_style": "",
      "children": [
       "IPY_MODEL_b325f6ee7f964b57947f3fa936ef5bf4",
       "IPY_MODEL_673946a2e8f84e62b4021faa5f80dd54",
       "IPY_MODEL_7d3e1029aeb54fb5ac54c045df577bd8"
      ],
      "layout": "IPY_MODEL_3d9c12c308ef4b6eaacc2facdc0c68a0"
     }
    },
    "030573c827d44e8f82d489e19a567d73": {
     "model_module": "@jupyter-widgets/base",
     "model_module_version": "1.2.0",
     "model_name": "LayoutModel",
     "state": {
      "_model_module": "@jupyter-widgets/base",
      "_model_module_version": "1.2.0",
      "_model_name": "LayoutModel",
      "_view_count": null,
      "_view_module": "@jupyter-widgets/base",
      "_view_module_version": "1.2.0",
      "_view_name": "LayoutView",
      "align_content": null,
      "align_items": null,
      "align_self": null,
      "border": null,
      "bottom": null,
      "display": null,
      "flex": null,
      "flex_flow": null,
      "grid_area": null,
      "grid_auto_columns": null,
      "grid_auto_flow": null,
      "grid_auto_rows": null,
      "grid_column": null,
      "grid_gap": null,
      "grid_row": null,
      "grid_template_areas": null,
      "grid_template_columns": null,
      "grid_template_rows": null,
      "height": null,
      "justify_content": null,
      "justify_items": null,
      "left": null,
      "margin": null,
      "max_height": null,
      "max_width": null,
      "min_height": null,
      "min_width": null,
      "object_fit": null,
      "object_position": null,
      "order": null,
      "overflow": null,
      "overflow_x": null,
      "overflow_y": null,
      "padding": null,
      "right": null,
      "top": null,
      "visibility": null,
      "width": null
     }
    },
    "05a9978906a54a66be755d943bfcd77b": {
     "model_module": "@jupyter-widgets/controls",
     "model_module_version": "1.5.0",
     "model_name": "FloatProgressModel",
     "state": {
      "_dom_classes": [],
      "_model_module": "@jupyter-widgets/controls",
      "_model_module_version": "1.5.0",
      "_model_name": "FloatProgressModel",
      "_view_count": null,
      "_view_module": "@jupyter-widgets/controls",
      "_view_module_version": "1.5.0",
      "_view_name": "ProgressView",
      "bar_style": "info",
      "description": "",
      "description_tooltip": null,
      "layout": "IPY_MODEL_a254416d90f4439eaf64ea9dc4e09cf5",
      "max": 1,
      "min": 0,
      "orientation": "horizontal",
      "style": "IPY_MODEL_876a4f1972ac4206a13d57142a850128",
      "value": 1
     }
    },
    "07d88c90cec640f3ae6c19a46be81d4b": {
     "model_module": "@jupyter-widgets/base",
     "model_module_version": "1.2.0",
     "model_name": "LayoutModel",
     "state": {
      "_model_module": "@jupyter-widgets/base",
      "_model_module_version": "1.2.0",
      "_model_name": "LayoutModel",
      "_view_count": null,
      "_view_module": "@jupyter-widgets/base",
      "_view_module_version": "1.2.0",
      "_view_name": "LayoutView",
      "align_content": null,
      "align_items": null,
      "align_self": null,
      "border": null,
      "bottom": null,
      "display": null,
      "flex": null,
      "flex_flow": null,
      "grid_area": null,
      "grid_auto_columns": null,
      "grid_auto_flow": null,
      "grid_auto_rows": null,
      "grid_column": null,
      "grid_gap": null,
      "grid_row": null,
      "grid_template_areas": null,
      "grid_template_columns": null,
      "grid_template_rows": null,
      "height": null,
      "justify_content": null,
      "justify_items": null,
      "left": null,
      "margin": null,
      "max_height": null,
      "max_width": null,
      "min_height": null,
      "min_width": null,
      "object_fit": null,
      "object_position": null,
      "order": null,
      "overflow": null,
      "overflow_x": null,
      "overflow_y": null,
      "padding": null,
      "right": null,
      "top": null,
      "visibility": null,
      "width": null
     }
    },
    "08a016858a4f444bab67bf60e2ac7363": {
     "model_module": "@jupyter-widgets/controls",
     "model_module_version": "1.5.0",
     "model_name": "FloatProgressModel",
     "state": {
      "_dom_classes": [],
      "_model_module": "@jupyter-widgets/controls",
      "_model_module_version": "1.5.0",
      "_model_name": "FloatProgressModel",
      "_view_count": null,
      "_view_module": "@jupyter-widgets/controls",
      "_view_module_version": "1.5.0",
      "_view_name": "ProgressView",
      "bar_style": "",
      "description": "",
      "description_tooltip": null,
      "layout": "IPY_MODEL_2f673c45b2e24ea2a6cf73b2fe4c53cf",
      "max": 1040,
      "min": 0,
      "orientation": "horizontal",
      "style": "IPY_MODEL_45b5098d78c84bc2a3596249737be3fa",
      "value": 1040
     }
    },
    "12eaca9babad41aca6d282efd99eb871": {
     "model_module": "@jupyter-widgets/controls",
     "model_module_version": "1.5.0",
     "model_name": "HBoxModel",
     "state": {
      "_dom_classes": [],
      "_model_module": "@jupyter-widgets/controls",
      "_model_module_version": "1.5.0",
      "_model_name": "HBoxModel",
      "_view_count": null,
      "_view_module": "@jupyter-widgets/controls",
      "_view_module_version": "1.5.0",
      "_view_name": "HBoxView",
      "box_style": "",
      "children": [
       "IPY_MODEL_c54cb4ab8b0640c3b53367fb51d53075",
       "IPY_MODEL_08a016858a4f444bab67bf60e2ac7363",
       "IPY_MODEL_3a4a22f41304444c9f10854cc60e3ae0"
      ],
      "layout": "IPY_MODEL_4192754827f24c0eb33a4e8f86ab94e5"
     }
    },
    "13b547710721495d9208e57ada20c5f5": {
     "model_module": "@jupyter-widgets/base",
     "model_module_version": "1.2.0",
     "model_name": "LayoutModel",
     "state": {
      "_model_module": "@jupyter-widgets/base",
      "_model_module_version": "1.2.0",
      "_model_name": "LayoutModel",
      "_view_count": null,
      "_view_module": "@jupyter-widgets/base",
      "_view_module_version": "1.2.0",
      "_view_name": "LayoutView",
      "align_content": null,
      "align_items": null,
      "align_self": null,
      "border": null,
      "bottom": null,
      "display": null,
      "flex": null,
      "flex_flow": null,
      "grid_area": null,
      "grid_auto_columns": null,
      "grid_auto_flow": null,
      "grid_auto_rows": null,
      "grid_column": null,
      "grid_gap": null,
      "grid_row": null,
      "grid_template_areas": null,
      "grid_template_columns": null,
      "grid_template_rows": null,
      "height": null,
      "justify_content": null,
      "justify_items": null,
      "left": null,
      "margin": null,
      "max_height": null,
      "max_width": null,
      "min_height": null,
      "min_width": null,
      "object_fit": null,
      "object_position": null,
      "order": null,
      "overflow": null,
      "overflow_x": null,
      "overflow_y": null,
      "padding": null,
      "right": null,
      "top": null,
      "visibility": null,
      "width": null
     }
    },
    "1944808fd31a4743b3aa9ee628e0f517": {
     "model_module": "@jupyter-widgets/controls",
     "model_module_version": "1.5.0",
     "model_name": "DescriptionStyleModel",
     "state": {
      "_model_module": "@jupyter-widgets/controls",
      "_model_module_version": "1.5.0",
      "_model_name": "DescriptionStyleModel",
      "_view_count": null,
      "_view_module": "@jupyter-widgets/base",
      "_view_module_version": "1.2.0",
      "_view_name": "StyleView",
      "description_width": ""
     }
    },
    "1ccb4257e9fc4b37b83b3c2398883a6e": {
     "model_module": "@jupyter-widgets/controls",
     "model_module_version": "1.5.0",
     "model_name": "HTMLModel",
     "state": {
      "_dom_classes": [],
      "_model_module": "@jupyter-widgets/controls",
      "_model_module_version": "1.5.0",
      "_model_name": "HTMLModel",
      "_view_count": null,
      "_view_module": "@jupyter-widgets/controls",
      "_view_module_version": "1.5.0",
      "_view_name": "HTMLView",
      "description": "",
      "description_tooltip": null,
      "layout": "IPY_MODEL_fc9cff826c514d548f4a612351e963cb",
      "placeholder": "​",
      "style": "IPY_MODEL_2374eb31be5b4d7f8f607844b3effedc",
      "value": "Generating train split: "
     }
    },
    "1e4c8bbbc92a459b953fe741be83d132": {
     "model_module": "@jupyter-widgets/controls",
     "model_module_version": "1.5.0",
     "model_name": "ProgressStyleModel",
     "state": {
      "_model_module": "@jupyter-widgets/controls",
      "_model_module_version": "1.5.0",
      "_model_name": "ProgressStyleModel",
      "_view_count": null,
      "_view_module": "@jupyter-widgets/base",
      "_view_module_version": "1.2.0",
      "_view_name": "StyleView",
      "bar_color": null,
      "description_width": ""
     }
    },
    "1e66e0ceab89438386d8c1aa494af916": {
     "model_module": "@jupyter-widgets/base",
     "model_module_version": "1.2.0",
     "model_name": "LayoutModel",
     "state": {
      "_model_module": "@jupyter-widgets/base",
      "_model_module_version": "1.2.0",
      "_model_name": "LayoutModel",
      "_view_count": null,
      "_view_module": "@jupyter-widgets/base",
      "_view_module_version": "1.2.0",
      "_view_name": "LayoutView",
      "align_content": null,
      "align_items": null,
      "align_self": null,
      "border": null,
      "bottom": null,
      "display": null,
      "flex": null,
      "flex_flow": null,
      "grid_area": null,
      "grid_auto_columns": null,
      "grid_auto_flow": null,
      "grid_auto_rows": null,
      "grid_column": null,
      "grid_gap": null,
      "grid_row": null,
      "grid_template_areas": null,
      "grid_template_columns": null,
      "grid_template_rows": null,
      "height": null,
      "justify_content": null,
      "justify_items": null,
      "left": null,
      "margin": null,
      "max_height": null,
      "max_width": null,
      "min_height": null,
      "min_width": null,
      "object_fit": null,
      "object_position": null,
      "order": null,
      "overflow": null,
      "overflow_x": null,
      "overflow_y": null,
      "padding": null,
      "right": null,
      "top": null,
      "visibility": null,
      "width": null
     }
    },
    "2374eb31be5b4d7f8f607844b3effedc": {
     "model_module": "@jupyter-widgets/controls",
     "model_module_version": "1.5.0",
     "model_name": "DescriptionStyleModel",
     "state": {
      "_model_module": "@jupyter-widgets/controls",
      "_model_module_version": "1.5.0",
      "_model_name": "DescriptionStyleModel",
      "_view_count": null,
      "_view_module": "@jupyter-widgets/base",
      "_view_module_version": "1.2.0",
      "_view_name": "StyleView",
      "description_width": ""
     }
    },
    "2869cbfa8c69460785221af61c23561c": {
     "model_module": "@jupyter-widgets/controls",
     "model_module_version": "1.5.0",
     "model_name": "HBoxModel",
     "state": {
      "_dom_classes": [],
      "_model_module": "@jupyter-widgets/controls",
      "_model_module_version": "1.5.0",
      "_model_name": "HBoxModel",
      "_view_count": null,
      "_view_module": "@jupyter-widgets/controls",
      "_view_module_version": "1.5.0",
      "_view_name": "HBoxView",
      "box_style": "",
      "children": [
       "IPY_MODEL_421d83680d714ae19eb3ffef4175d9f2",
       "IPY_MODEL_db50cca2cf90410fb8b2c643c760a4d4",
       "IPY_MODEL_470c01d48ee9431d87257020d8f0bef3"
      ],
      "layout": "IPY_MODEL_be54503f2793416a8d6321a28983c31d"
     }
    },
    "2b3f31bf14bb4468a783458a3a094ab2": {
     "model_module": "@jupyter-widgets/base",
     "model_module_version": "1.2.0",
     "model_name": "LayoutModel",
     "state": {
      "_model_module": "@jupyter-widgets/base",
      "_model_module_version": "1.2.0",
      "_model_name": "LayoutModel",
      "_view_count": null,
      "_view_module": "@jupyter-widgets/base",
      "_view_module_version": "1.2.0",
      "_view_name": "LayoutView",
      "align_content": null,
      "align_items": null,
      "align_self": null,
      "border": null,
      "bottom": null,
      "display": null,
      "flex": null,
      "flex_flow": null,
      "grid_area": null,
      "grid_auto_columns": null,
      "grid_auto_flow": null,
      "grid_auto_rows": null,
      "grid_column": null,
      "grid_gap": null,
      "grid_row": null,
      "grid_template_areas": null,
      "grid_template_columns": null,
      "grid_template_rows": null,
      "height": null,
      "justify_content": null,
      "justify_items": null,
      "left": null,
      "margin": null,
      "max_height": null,
      "max_width": null,
      "min_height": null,
      "min_width": null,
      "object_fit": null,
      "object_position": null,
      "order": null,
      "overflow": null,
      "overflow_x": null,
      "overflow_y": null,
      "padding": null,
      "right": null,
      "top": null,
      "visibility": null,
      "width": null
     }
    },
    "2f673c45b2e24ea2a6cf73b2fe4c53cf": {
     "model_module": "@jupyter-widgets/base",
     "model_module_version": "1.2.0",
     "model_name": "LayoutModel",
     "state": {
      "_model_module": "@jupyter-widgets/base",
      "_model_module_version": "1.2.0",
      "_model_name": "LayoutModel",
      "_view_count": null,
      "_view_module": "@jupyter-widgets/base",
      "_view_module_version": "1.2.0",
      "_view_name": "LayoutView",
      "align_content": null,
      "align_items": null,
      "align_self": null,
      "border": null,
      "bottom": null,
      "display": null,
      "flex": null,
      "flex_flow": null,
      "grid_area": null,
      "grid_auto_columns": null,
      "grid_auto_flow": null,
      "grid_auto_rows": null,
      "grid_column": null,
      "grid_gap": null,
      "grid_row": null,
      "grid_template_areas": null,
      "grid_template_columns": null,
      "grid_template_rows": null,
      "height": null,
      "justify_content": null,
      "justify_items": null,
      "left": null,
      "margin": null,
      "max_height": null,
      "max_width": null,
      "min_height": null,
      "min_width": null,
      "object_fit": null,
      "object_position": null,
      "order": null,
      "overflow": null,
      "overflow_x": null,
      "overflow_y": null,
      "padding": null,
      "right": null,
      "top": null,
      "visibility": null,
      "width": null
     }
    },
    "31fcea3231644a9abcc196aa0ca1ae6b": {
     "model_module": "@jupyter-widgets/controls",
     "model_module_version": "1.5.0",
     "model_name": "HBoxModel",
     "state": {
      "_dom_classes": [],
      "_model_module": "@jupyter-widgets/controls",
      "_model_module_version": "1.5.0",
      "_model_name": "HBoxModel",
      "_view_count": null,
      "_view_module": "@jupyter-widgets/controls",
      "_view_module_version": "1.5.0",
      "_view_name": "HBoxView",
      "box_style": "",
      "children": [
       "IPY_MODEL_1ccb4257e9fc4b37b83b3c2398883a6e",
       "IPY_MODEL_05a9978906a54a66be755d943bfcd77b",
       "IPY_MODEL_6a541491d8ad498c8ee6002a490c6bc7"
      ],
      "layout": "IPY_MODEL_c035eb0d541744e7ae12e9bac4fc3552"
     }
    },
    "377a892ebfb74b6faf3ba364df2c3c79": {
     "model_module": "@jupyter-widgets/controls",
     "model_module_version": "1.5.0",
     "model_name": "DescriptionStyleModel",
     "state": {
      "_model_module": "@jupyter-widgets/controls",
      "_model_module_version": "1.5.0",
      "_model_name": "DescriptionStyleModel",
      "_view_count": null,
      "_view_module": "@jupyter-widgets/base",
      "_view_module_version": "1.2.0",
      "_view_name": "StyleView",
      "description_width": ""
     }
    },
    "3a4a22f41304444c9f10854cc60e3ae0": {
     "model_module": "@jupyter-widgets/controls",
     "model_module_version": "1.5.0",
     "model_name": "HTMLModel",
     "state": {
      "_dom_classes": [],
      "_model_module": "@jupyter-widgets/controls",
      "_model_module_version": "1.5.0",
      "_model_name": "HTMLModel",
      "_view_count": null,
      "_view_module": "@jupyter-widgets/controls",
      "_view_module_version": "1.5.0",
      "_view_name": "HTMLView",
      "description": "",
      "description_tooltip": null,
      "layout": "IPY_MODEL_ca6c4246f63e49e895bab9d6fcf04cdb",
      "placeholder": "​",
      "style": "IPY_MODEL_78462ffc2b7941a5a76dc50db0b54d52",
      "value": " 988/1040 [00:00&lt;00:00, 1225.72 examples/s]"
     }
    },
    "3d9c12c308ef4b6eaacc2facdc0c68a0": {
     "model_module": "@jupyter-widgets/base",
     "model_module_version": "1.2.0",
     "model_name": "LayoutModel",
     "state": {
      "_model_module": "@jupyter-widgets/base",
      "_model_module_version": "1.2.0",
      "_model_name": "LayoutModel",
      "_view_count": null,
      "_view_module": "@jupyter-widgets/base",
      "_view_module_version": "1.2.0",
      "_view_name": "LayoutView",
      "align_content": null,
      "align_items": null,
      "align_self": null,
      "border": null,
      "bottom": null,
      "display": null,
      "flex": null,
      "flex_flow": null,
      "grid_area": null,
      "grid_auto_columns": null,
      "grid_auto_flow": null,
      "grid_auto_rows": null,
      "grid_column": null,
      "grid_gap": null,
      "grid_row": null,
      "grid_template_areas": null,
      "grid_template_columns": null,
      "grid_template_rows": null,
      "height": null,
      "justify_content": null,
      "justify_items": null,
      "left": null,
      "margin": null,
      "max_height": null,
      "max_width": null,
      "min_height": null,
      "min_width": null,
      "object_fit": null,
      "object_position": null,
      "order": null,
      "overflow": null,
      "overflow_x": null,
      "overflow_y": null,
      "padding": null,
      "right": null,
      "top": null,
      "visibility": null,
      "width": null
     }
    },
    "3dd1186fcd6142b6b025c1e38c6c6430": {
     "model_module": "@jupyter-widgets/controls",
     "model_module_version": "1.5.0",
     "model_name": "DescriptionStyleModel",
     "state": {
      "_model_module": "@jupyter-widgets/controls",
      "_model_module_version": "1.5.0",
      "_model_name": "DescriptionStyleModel",
      "_view_count": null,
      "_view_module": "@jupyter-widgets/base",
      "_view_module_version": "1.2.0",
      "_view_name": "StyleView",
      "description_width": ""
     }
    },
    "4192754827f24c0eb33a4e8f86ab94e5": {
     "model_module": "@jupyter-widgets/base",
     "model_module_version": "1.2.0",
     "model_name": "LayoutModel",
     "state": {
      "_model_module": "@jupyter-widgets/base",
      "_model_module_version": "1.2.0",
      "_model_name": "LayoutModel",
      "_view_count": null,
      "_view_module": "@jupyter-widgets/base",
      "_view_module_version": "1.2.0",
      "_view_name": "LayoutView",
      "align_content": null,
      "align_items": null,
      "align_self": null,
      "border": null,
      "bottom": null,
      "display": null,
      "flex": null,
      "flex_flow": null,
      "grid_area": null,
      "grid_auto_columns": null,
      "grid_auto_flow": null,
      "grid_auto_rows": null,
      "grid_column": null,
      "grid_gap": null,
      "grid_row": null,
      "grid_template_areas": null,
      "grid_template_columns": null,
      "grid_template_rows": null,
      "height": null,
      "justify_content": null,
      "justify_items": null,
      "left": null,
      "margin": null,
      "max_height": null,
      "max_width": null,
      "min_height": null,
      "min_width": null,
      "object_fit": null,
      "object_position": null,
      "order": null,
      "overflow": null,
      "overflow_x": null,
      "overflow_y": null,
      "padding": null,
      "right": null,
      "top": null,
      "visibility": "hidden",
      "width": null
     }
    },
    "421d83680d714ae19eb3ffef4175d9f2": {
     "model_module": "@jupyter-widgets/controls",
     "model_module_version": "1.5.0",
     "model_name": "HTMLModel",
     "state": {
      "_dom_classes": [],
      "_model_module": "@jupyter-widgets/controls",
      "_model_module_version": "1.5.0",
      "_model_name": "HTMLModel",
      "_view_count": null,
      "_view_module": "@jupyter-widgets/controls",
      "_view_module_version": "1.5.0",
      "_view_name": "HTMLView",
      "description": "",
      "description_tooltip": null,
      "layout": "IPY_MODEL_ad1e879ea0f64871839ee6b3bda0882c",
      "placeholder": "​",
      "style": "IPY_MODEL_377a892ebfb74b6faf3ba364df2c3c79",
      "value": "100%"
     }
    },
    "42b470f4cb6b430e986cde2a732ae1bf": {
     "model_module": "@jupyter-widgets/base",
     "model_module_version": "1.2.0",
     "model_name": "LayoutModel",
     "state": {
      "_model_module": "@jupyter-widgets/base",
      "_model_module_version": "1.2.0",
      "_model_name": "LayoutModel",
      "_view_count": null,
      "_view_module": "@jupyter-widgets/base",
      "_view_module_version": "1.2.0",
      "_view_name": "LayoutView",
      "align_content": null,
      "align_items": null,
      "align_self": null,
      "border": null,
      "bottom": null,
      "display": null,
      "flex": null,
      "flex_flow": null,
      "grid_area": null,
      "grid_auto_columns": null,
      "grid_auto_flow": null,
      "grid_auto_rows": null,
      "grid_column": null,
      "grid_gap": null,
      "grid_row": null,
      "grid_template_areas": null,
      "grid_template_columns": null,
      "grid_template_rows": null,
      "height": null,
      "justify_content": null,
      "justify_items": null,
      "left": null,
      "margin": null,
      "max_height": null,
      "max_width": null,
      "min_height": null,
      "min_width": null,
      "object_fit": null,
      "object_position": null,
      "order": null,
      "overflow": null,
      "overflow_x": null,
      "overflow_y": null,
      "padding": null,
      "right": null,
      "top": null,
      "visibility": null,
      "width": null
     }
    },
    "45b5098d78c84bc2a3596249737be3fa": {
     "model_module": "@jupyter-widgets/controls",
     "model_module_version": "1.5.0",
     "model_name": "ProgressStyleModel",
     "state": {
      "_model_module": "@jupyter-widgets/controls",
      "_model_module_version": "1.5.0",
      "_model_name": "ProgressStyleModel",
      "_view_count": null,
      "_view_module": "@jupyter-widgets/base",
      "_view_module_version": "1.2.0",
      "_view_name": "StyleView",
      "bar_color": null,
      "description_width": ""
     }
    },
    "470c01d48ee9431d87257020d8f0bef3": {
     "model_module": "@jupyter-widgets/controls",
     "model_module_version": "1.5.0",
     "model_name": "HTMLModel",
     "state": {
      "_dom_classes": [],
      "_model_module": "@jupyter-widgets/controls",
      "_model_module_version": "1.5.0",
      "_model_name": "HTMLModel",
      "_view_count": null,
      "_view_module": "@jupyter-widgets/controls",
      "_view_module_version": "1.5.0",
      "_view_name": "HTMLView",
      "description": "",
      "description_tooltip": null,
      "layout": "IPY_MODEL_a72fdbc5e3ce40fd88e7135bcdfb9ee8",
      "placeholder": "​",
      "style": "IPY_MODEL_a2a19d258b9e419cbb22fe5934efdf64",
      "value": " 1/1 [00:00&lt;00:00, 24.08it/s]"
     }
    },
    "673946a2e8f84e62b4021faa5f80dd54": {
     "model_module": "@jupyter-widgets/controls",
     "model_module_version": "1.5.0",
     "model_name": "FloatProgressModel",
     "state": {
      "_dom_classes": [],
      "_model_module": "@jupyter-widgets/controls",
      "_model_module_version": "1.5.0",
      "_model_name": "FloatProgressModel",
      "_view_count": null,
      "_view_module": "@jupyter-widgets/controls",
      "_view_module_version": "1.5.0",
      "_view_name": "ProgressView",
      "bar_style": "success",
      "description": "",
      "description_tooltip": null,
      "layout": "IPY_MODEL_2b3f31bf14bb4468a783458a3a094ab2",
      "max": 1,
      "min": 0,
      "orientation": "horizontal",
      "style": "IPY_MODEL_8c31778d327a4fd68cc66aee90e74c4e",
      "value": 1
     }
    },
    "67bcf0c9b6bf4b18a5a318ce60f5b544": {
     "model_module": "@jupyter-widgets/controls",
     "model_module_version": "1.5.0",
     "model_name": "ProgressStyleModel",
     "state": {
      "_model_module": "@jupyter-widgets/controls",
      "_model_module_version": "1.5.0",
      "_model_name": "ProgressStyleModel",
      "_view_count": null,
      "_view_module": "@jupyter-widgets/base",
      "_view_module_version": "1.2.0",
      "_view_name": "StyleView",
      "bar_color": null,
      "description_width": ""
     }
    },
    "6a541491d8ad498c8ee6002a490c6bc7": {
     "model_module": "@jupyter-widgets/controls",
     "model_module_version": "1.5.0",
     "model_name": "HTMLModel",
     "state": {
      "_dom_classes": [],
      "_model_module": "@jupyter-widgets/controls",
      "_model_module_version": "1.5.0",
      "_model_name": "HTMLModel",
      "_view_count": null,
      "_view_module": "@jupyter-widgets/controls",
      "_view_module_version": "1.5.0",
      "_view_name": "HTMLView",
      "description": "",
      "description_tooltip": null,
      "layout": "IPY_MODEL_f08d706b3ef9486383d12ad5d37bd622",
      "placeholder": "​",
      "style": "IPY_MODEL_c34204d7afd74e2fbb9f31082ae759ec",
      "value": " 1040/0 [00:00&lt;00:00, 7834.33 examples/s]"
     }
    },
    "6c5b504fd8a7482a9c72c47edb13e653": {
     "model_module": "@jupyter-widgets/controls",
     "model_module_version": "1.5.0",
     "model_name": "HTMLModel",
     "state": {
      "_dom_classes": [],
      "_model_module": "@jupyter-widgets/controls",
      "_model_module_version": "1.5.0",
      "_model_name": "HTMLModel",
      "_view_count": null,
      "_view_module": "@jupyter-widgets/controls",
      "_view_module_version": "1.5.0",
      "_view_name": "HTMLView",
      "description": "",
      "description_tooltip": null,
      "layout": "IPY_MODEL_895ad55bc1074f6cbbbcb4174e9bc0cd",
      "placeholder": "​",
      "style": "IPY_MODEL_f75b54c99e4d446e8a9701d98a4eaff7",
      "value": " 1/1 [00:00&lt;00:00, 52.27it/s]"
     }
    },
    "78462ffc2b7941a5a76dc50db0b54d52": {
     "model_module": "@jupyter-widgets/controls",
     "model_module_version": "1.5.0",
     "model_name": "DescriptionStyleModel",
     "state": {
      "_model_module": "@jupyter-widgets/controls",
      "_model_module_version": "1.5.0",
      "_model_name": "DescriptionStyleModel",
      "_view_count": null,
      "_view_module": "@jupyter-widgets/base",
      "_view_module_version": "1.2.0",
      "_view_name": "StyleView",
      "description_width": ""
     }
    },
    "7a336a53555a4ee5924b59a2fb5be7d9": {
     "model_module": "@jupyter-widgets/controls",
     "model_module_version": "1.5.0",
     "model_name": "FloatProgressModel",
     "state": {
      "_dom_classes": [],
      "_model_module": "@jupyter-widgets/controls",
      "_model_module_version": "1.5.0",
      "_model_name": "FloatProgressModel",
      "_view_count": null,
      "_view_module": "@jupyter-widgets/controls",
      "_view_module_version": "1.5.0",
      "_view_name": "ProgressView",
      "bar_style": "success",
      "description": "",
      "description_tooltip": null,
      "layout": "IPY_MODEL_07d88c90cec640f3ae6c19a46be81d4b",
      "max": 1,
      "min": 0,
      "orientation": "horizontal",
      "style": "IPY_MODEL_67bcf0c9b6bf4b18a5a318ce60f5b544",
      "value": 1
     }
    },
    "7d3e1029aeb54fb5ac54c045df577bd8": {
     "model_module": "@jupyter-widgets/controls",
     "model_module_version": "1.5.0",
     "model_name": "HTMLModel",
     "state": {
      "_dom_classes": [],
      "_model_module": "@jupyter-widgets/controls",
      "_model_module_version": "1.5.0",
      "_model_name": "HTMLModel",
      "_view_count": null,
      "_view_module": "@jupyter-widgets/controls",
      "_view_module_version": "1.5.0",
      "_view_name": "HTMLView",
      "description": "",
      "description_tooltip": null,
      "layout": "IPY_MODEL_8ea6414f11b440b694b236c8fb5cda61",
      "placeholder": "​",
      "style": "IPY_MODEL_1944808fd31a4743b3aa9ee628e0f517",
      "value": " 1/1 [00:00&lt;00:00, 47.03it/s]"
     }
    },
    "876a4f1972ac4206a13d57142a850128": {
     "model_module": "@jupyter-widgets/controls",
     "model_module_version": "1.5.0",
     "model_name": "ProgressStyleModel",
     "state": {
      "_model_module": "@jupyter-widgets/controls",
      "_model_module_version": "1.5.0",
      "_model_name": "ProgressStyleModel",
      "_view_count": null,
      "_view_module": "@jupyter-widgets/base",
      "_view_module_version": "1.2.0",
      "_view_name": "StyleView",
      "bar_color": null,
      "description_width": ""
     }
    },
    "895ad55bc1074f6cbbbcb4174e9bc0cd": {
     "model_module": "@jupyter-widgets/base",
     "model_module_version": "1.2.0",
     "model_name": "LayoutModel",
     "state": {
      "_model_module": "@jupyter-widgets/base",
      "_model_module_version": "1.2.0",
      "_model_name": "LayoutModel",
      "_view_count": null,
      "_view_module": "@jupyter-widgets/base",
      "_view_module_version": "1.2.0",
      "_view_name": "LayoutView",
      "align_content": null,
      "align_items": null,
      "align_self": null,
      "border": null,
      "bottom": null,
      "display": null,
      "flex": null,
      "flex_flow": null,
      "grid_area": null,
      "grid_auto_columns": null,
      "grid_auto_flow": null,
      "grid_auto_rows": null,
      "grid_column": null,
      "grid_gap": null,
      "grid_row": null,
      "grid_template_areas": null,
      "grid_template_columns": null,
      "grid_template_rows": null,
      "height": null,
      "justify_content": null,
      "justify_items": null,
      "left": null,
      "margin": null,
      "max_height": null,
      "max_width": null,
      "min_height": null,
      "min_width": null,
      "object_fit": null,
      "object_position": null,
      "order": null,
      "overflow": null,
      "overflow_x": null,
      "overflow_y": null,
      "padding": null,
      "right": null,
      "top": null,
      "visibility": null,
      "width": null
     }
    },
    "8c31778d327a4fd68cc66aee90e74c4e": {
     "model_module": "@jupyter-widgets/controls",
     "model_module_version": "1.5.0",
     "model_name": "ProgressStyleModel",
     "state": {
      "_model_module": "@jupyter-widgets/controls",
      "_model_module_version": "1.5.0",
      "_model_name": "ProgressStyleModel",
      "_view_count": null,
      "_view_module": "@jupyter-widgets/base",
      "_view_module_version": "1.2.0",
      "_view_name": "StyleView",
      "bar_color": null,
      "description_width": ""
     }
    },
    "8e4e651a80554194be7ef50b28e4fb72": {
     "model_module": "@jupyter-widgets/controls",
     "model_module_version": "1.5.0",
     "model_name": "HTMLModel",
     "state": {
      "_dom_classes": [],
      "_model_module": "@jupyter-widgets/controls",
      "_model_module_version": "1.5.0",
      "_model_name": "HTMLModel",
      "_view_count": null,
      "_view_module": "@jupyter-widgets/controls",
      "_view_module_version": "1.5.0",
      "_view_name": "HTMLView",
      "description": "",
      "description_tooltip": null,
      "layout": "IPY_MODEL_42b470f4cb6b430e986cde2a732ae1bf",
      "placeholder": "​",
      "style": "IPY_MODEL_ce57d1252b2043138ddfaff3823fe283",
      "value": "Downloading data files: 100%"
     }
    },
    "8ea6414f11b440b694b236c8fb5cda61": {
     "model_module": "@jupyter-widgets/base",
     "model_module_version": "1.2.0",
     "model_name": "LayoutModel",
     "state": {
      "_model_module": "@jupyter-widgets/base",
      "_model_module_version": "1.2.0",
      "_model_name": "LayoutModel",
      "_view_count": null,
      "_view_module": "@jupyter-widgets/base",
      "_view_module_version": "1.2.0",
      "_view_name": "LayoutView",
      "align_content": null,
      "align_items": null,
      "align_self": null,
      "border": null,
      "bottom": null,
      "display": null,
      "flex": null,
      "flex_flow": null,
      "grid_area": null,
      "grid_auto_columns": null,
      "grid_auto_flow": null,
      "grid_auto_rows": null,
      "grid_column": null,
      "grid_gap": null,
      "grid_row": null,
      "grid_template_areas": null,
      "grid_template_columns": null,
      "grid_template_rows": null,
      "height": null,
      "justify_content": null,
      "justify_items": null,
      "left": null,
      "margin": null,
      "max_height": null,
      "max_width": null,
      "min_height": null,
      "min_width": null,
      "object_fit": null,
      "object_position": null,
      "order": null,
      "overflow": null,
      "overflow_x": null,
      "overflow_y": null,
      "padding": null,
      "right": null,
      "top": null,
      "visibility": null,
      "width": null
     }
    },
    "a254416d90f4439eaf64ea9dc4e09cf5": {
     "model_module": "@jupyter-widgets/base",
     "model_module_version": "1.2.0",
     "model_name": "LayoutModel",
     "state": {
      "_model_module": "@jupyter-widgets/base",
      "_model_module_version": "1.2.0",
      "_model_name": "LayoutModel",
      "_view_count": null,
      "_view_module": "@jupyter-widgets/base",
      "_view_module_version": "1.2.0",
      "_view_name": "LayoutView",
      "align_content": null,
      "align_items": null,
      "align_self": null,
      "border": null,
      "bottom": null,
      "display": null,
      "flex": null,
      "flex_flow": null,
      "grid_area": null,
      "grid_auto_columns": null,
      "grid_auto_flow": null,
      "grid_auto_rows": null,
      "grid_column": null,
      "grid_gap": null,
      "grid_row": null,
      "grid_template_areas": null,
      "grid_template_columns": null,
      "grid_template_rows": null,
      "height": null,
      "justify_content": null,
      "justify_items": null,
      "left": null,
      "margin": null,
      "max_height": null,
      "max_width": null,
      "min_height": null,
      "min_width": null,
      "object_fit": null,
      "object_position": null,
      "order": null,
      "overflow": null,
      "overflow_x": null,
      "overflow_y": null,
      "padding": null,
      "right": null,
      "top": null,
      "visibility": null,
      "width": "20px"
     }
    },
    "a2a19d258b9e419cbb22fe5934efdf64": {
     "model_module": "@jupyter-widgets/controls",
     "model_module_version": "1.5.0",
     "model_name": "DescriptionStyleModel",
     "state": {
      "_model_module": "@jupyter-widgets/controls",
      "_model_module_version": "1.5.0",
      "_model_name": "DescriptionStyleModel",
      "_view_count": null,
      "_view_module": "@jupyter-widgets/base",
      "_view_module_version": "1.2.0",
      "_view_name": "StyleView",
      "description_width": ""
     }
    },
    "a72fdbc5e3ce40fd88e7135bcdfb9ee8": {
     "model_module": "@jupyter-widgets/base",
     "model_module_version": "1.2.0",
     "model_name": "LayoutModel",
     "state": {
      "_model_module": "@jupyter-widgets/base",
      "_model_module_version": "1.2.0",
      "_model_name": "LayoutModel",
      "_view_count": null,
      "_view_module": "@jupyter-widgets/base",
      "_view_module_version": "1.2.0",
      "_view_name": "LayoutView",
      "align_content": null,
      "align_items": null,
      "align_self": null,
      "border": null,
      "bottom": null,
      "display": null,
      "flex": null,
      "flex_flow": null,
      "grid_area": null,
      "grid_auto_columns": null,
      "grid_auto_flow": null,
      "grid_auto_rows": null,
      "grid_column": null,
      "grid_gap": null,
      "grid_row": null,
      "grid_template_areas": null,
      "grid_template_columns": null,
      "grid_template_rows": null,
      "height": null,
      "justify_content": null,
      "justify_items": null,
      "left": null,
      "margin": null,
      "max_height": null,
      "max_width": null,
      "min_height": null,
      "min_width": null,
      "object_fit": null,
      "object_position": null,
      "order": null,
      "overflow": null,
      "overflow_x": null,
      "overflow_y": null,
      "padding": null,
      "right": null,
      "top": null,
      "visibility": null,
      "width": null
     }
    },
    "ad1e879ea0f64871839ee6b3bda0882c": {
     "model_module": "@jupyter-widgets/base",
     "model_module_version": "1.2.0",
     "model_name": "LayoutModel",
     "state": {
      "_model_module": "@jupyter-widgets/base",
      "_model_module_version": "1.2.0",
      "_model_name": "LayoutModel",
      "_view_count": null,
      "_view_module": "@jupyter-widgets/base",
      "_view_module_version": "1.2.0",
      "_view_name": "LayoutView",
      "align_content": null,
      "align_items": null,
      "align_self": null,
      "border": null,
      "bottom": null,
      "display": null,
      "flex": null,
      "flex_flow": null,
      "grid_area": null,
      "grid_auto_columns": null,
      "grid_auto_flow": null,
      "grid_auto_rows": null,
      "grid_column": null,
      "grid_gap": null,
      "grid_row": null,
      "grid_template_areas": null,
      "grid_template_columns": null,
      "grid_template_rows": null,
      "height": null,
      "justify_content": null,
      "justify_items": null,
      "left": null,
      "margin": null,
      "max_height": null,
      "max_width": null,
      "min_height": null,
      "min_width": null,
      "object_fit": null,
      "object_position": null,
      "order": null,
      "overflow": null,
      "overflow_x": null,
      "overflow_y": null,
      "padding": null,
      "right": null,
      "top": null,
      "visibility": null,
      "width": null
     }
    },
    "b038219c15774af6b67782d33545b294": {
     "model_module": "@jupyter-widgets/base",
     "model_module_version": "1.2.0",
     "model_name": "LayoutModel",
     "state": {
      "_model_module": "@jupyter-widgets/base",
      "_model_module_version": "1.2.0",
      "_model_name": "LayoutModel",
      "_view_count": null,
      "_view_module": "@jupyter-widgets/base",
      "_view_module_version": "1.2.0",
      "_view_name": "LayoutView",
      "align_content": null,
      "align_items": null,
      "align_self": null,
      "border": null,
      "bottom": null,
      "display": null,
      "flex": null,
      "flex_flow": null,
      "grid_area": null,
      "grid_auto_columns": null,
      "grid_auto_flow": null,
      "grid_auto_rows": null,
      "grid_column": null,
      "grid_gap": null,
      "grid_row": null,
      "grid_template_areas": null,
      "grid_template_columns": null,
      "grid_template_rows": null,
      "height": null,
      "justify_content": null,
      "justify_items": null,
      "left": null,
      "margin": null,
      "max_height": null,
      "max_width": null,
      "min_height": null,
      "min_width": null,
      "object_fit": null,
      "object_position": null,
      "order": null,
      "overflow": null,
      "overflow_x": null,
      "overflow_y": null,
      "padding": null,
      "right": null,
      "top": null,
      "visibility": null,
      "width": null
     }
    },
    "b325f6ee7f964b57947f3fa936ef5bf4": {
     "model_module": "@jupyter-widgets/controls",
     "model_module_version": "1.5.0",
     "model_name": "HTMLModel",
     "state": {
      "_dom_classes": [],
      "_model_module": "@jupyter-widgets/controls",
      "_model_module_version": "1.5.0",
      "_model_name": "HTMLModel",
      "_view_count": null,
      "_view_module": "@jupyter-widgets/controls",
      "_view_module_version": "1.5.0",
      "_view_name": "HTMLView",
      "description": "",
      "description_tooltip": null,
      "layout": "IPY_MODEL_b038219c15774af6b67782d33545b294",
      "placeholder": "​",
      "style": "IPY_MODEL_3dd1186fcd6142b6b025c1e38c6c6430",
      "value": "Extracting data files: 100%"
     }
    },
    "be54503f2793416a8d6321a28983c31d": {
     "model_module": "@jupyter-widgets/base",
     "model_module_version": "1.2.0",
     "model_name": "LayoutModel",
     "state": {
      "_model_module": "@jupyter-widgets/base",
      "_model_module_version": "1.2.0",
      "_model_name": "LayoutModel",
      "_view_count": null,
      "_view_module": "@jupyter-widgets/base",
      "_view_module_version": "1.2.0",
      "_view_name": "LayoutView",
      "align_content": null,
      "align_items": null,
      "align_self": null,
      "border": null,
      "bottom": null,
      "display": null,
      "flex": null,
      "flex_flow": null,
      "grid_area": null,
      "grid_auto_columns": null,
      "grid_auto_flow": null,
      "grid_auto_rows": null,
      "grid_column": null,
      "grid_gap": null,
      "grid_row": null,
      "grid_template_areas": null,
      "grid_template_columns": null,
      "grid_template_rows": null,
      "height": null,
      "justify_content": null,
      "justify_items": null,
      "left": null,
      "margin": null,
      "max_height": null,
      "max_width": null,
      "min_height": null,
      "min_width": null,
      "object_fit": null,
      "object_position": null,
      "order": null,
      "overflow": null,
      "overflow_x": null,
      "overflow_y": null,
      "padding": null,
      "right": null,
      "top": null,
      "visibility": null,
      "width": null
     }
    },
    "c035eb0d541744e7ae12e9bac4fc3552": {
     "model_module": "@jupyter-widgets/base",
     "model_module_version": "1.2.0",
     "model_name": "LayoutModel",
     "state": {
      "_model_module": "@jupyter-widgets/base",
      "_model_module_version": "1.2.0",
      "_model_name": "LayoutModel",
      "_view_count": null,
      "_view_module": "@jupyter-widgets/base",
      "_view_module_version": "1.2.0",
      "_view_name": "LayoutView",
      "align_content": null,
      "align_items": null,
      "align_self": null,
      "border": null,
      "bottom": null,
      "display": null,
      "flex": null,
      "flex_flow": null,
      "grid_area": null,
      "grid_auto_columns": null,
      "grid_auto_flow": null,
      "grid_auto_rows": null,
      "grid_column": null,
      "grid_gap": null,
      "grid_row": null,
      "grid_template_areas": null,
      "grid_template_columns": null,
      "grid_template_rows": null,
      "height": null,
      "justify_content": null,
      "justify_items": null,
      "left": null,
      "margin": null,
      "max_height": null,
      "max_width": null,
      "min_height": null,
      "min_width": null,
      "object_fit": null,
      "object_position": null,
      "order": null,
      "overflow": null,
      "overflow_x": null,
      "overflow_y": null,
      "padding": null,
      "right": null,
      "top": null,
      "visibility": "hidden",
      "width": null
     }
    },
    "c34204d7afd74e2fbb9f31082ae759ec": {
     "model_module": "@jupyter-widgets/controls",
     "model_module_version": "1.5.0",
     "model_name": "DescriptionStyleModel",
     "state": {
      "_model_module": "@jupyter-widgets/controls",
      "_model_module_version": "1.5.0",
      "_model_name": "DescriptionStyleModel",
      "_view_count": null,
      "_view_module": "@jupyter-widgets/base",
      "_view_module_version": "1.2.0",
      "_view_name": "StyleView",
      "description_width": ""
     }
    },
    "c54cb4ab8b0640c3b53367fb51d53075": {
     "model_module": "@jupyter-widgets/controls",
     "model_module_version": "1.5.0",
     "model_name": "HTMLModel",
     "state": {
      "_dom_classes": [],
      "_model_module": "@jupyter-widgets/controls",
      "_model_module_version": "1.5.0",
      "_model_name": "HTMLModel",
      "_view_count": null,
      "_view_module": "@jupyter-widgets/controls",
      "_view_module_version": "1.5.0",
      "_view_name": "HTMLView",
      "description": "",
      "description_tooltip": null,
      "layout": "IPY_MODEL_1e66e0ceab89438386d8c1aa494af916",
      "placeholder": "​",
      "style": "IPY_MODEL_d16cf8c1424043f0b2734dacecf1165e",
      "value": "Map:  95%"
     }
    },
    "c82f4fa9451a43f2bf0dae4f29eb9a5e": {
     "model_module": "@jupyter-widgets/controls",
     "model_module_version": "1.5.0",
     "model_name": "HBoxModel",
     "state": {
      "_dom_classes": [],
      "_model_module": "@jupyter-widgets/controls",
      "_model_module_version": "1.5.0",
      "_model_name": "HBoxModel",
      "_view_count": null,
      "_view_module": "@jupyter-widgets/controls",
      "_view_module_version": "1.5.0",
      "_view_name": "HBoxView",
      "box_style": "",
      "children": [
       "IPY_MODEL_8e4e651a80554194be7ef50b28e4fb72",
       "IPY_MODEL_7a336a53555a4ee5924b59a2fb5be7d9",
       "IPY_MODEL_6c5b504fd8a7482a9c72c47edb13e653"
      ],
      "layout": "IPY_MODEL_030573c827d44e8f82d489e19a567d73"
     }
    },
    "ca6c4246f63e49e895bab9d6fcf04cdb": {
     "model_module": "@jupyter-widgets/base",
     "model_module_version": "1.2.0",
     "model_name": "LayoutModel",
     "state": {
      "_model_module": "@jupyter-widgets/base",
      "_model_module_version": "1.2.0",
      "_model_name": "LayoutModel",
      "_view_count": null,
      "_view_module": "@jupyter-widgets/base",
      "_view_module_version": "1.2.0",
      "_view_name": "LayoutView",
      "align_content": null,
      "align_items": null,
      "align_self": null,
      "border": null,
      "bottom": null,
      "display": null,
      "flex": null,
      "flex_flow": null,
      "grid_area": null,
      "grid_auto_columns": null,
      "grid_auto_flow": null,
      "grid_auto_rows": null,
      "grid_column": null,
      "grid_gap": null,
      "grid_row": null,
      "grid_template_areas": null,
      "grid_template_columns": null,
      "grid_template_rows": null,
      "height": null,
      "justify_content": null,
      "justify_items": null,
      "left": null,
      "margin": null,
      "max_height": null,
      "max_width": null,
      "min_height": null,
      "min_width": null,
      "object_fit": null,
      "object_position": null,
      "order": null,
      "overflow": null,
      "overflow_x": null,
      "overflow_y": null,
      "padding": null,
      "right": null,
      "top": null,
      "visibility": null,
      "width": null
     }
    },
    "ce57d1252b2043138ddfaff3823fe283": {
     "model_module": "@jupyter-widgets/controls",
     "model_module_version": "1.5.0",
     "model_name": "DescriptionStyleModel",
     "state": {
      "_model_module": "@jupyter-widgets/controls",
      "_model_module_version": "1.5.0",
      "_model_name": "DescriptionStyleModel",
      "_view_count": null,
      "_view_module": "@jupyter-widgets/base",
      "_view_module_version": "1.2.0",
      "_view_name": "StyleView",
      "description_width": ""
     }
    },
    "d16cf8c1424043f0b2734dacecf1165e": {
     "model_module": "@jupyter-widgets/controls",
     "model_module_version": "1.5.0",
     "model_name": "DescriptionStyleModel",
     "state": {
      "_model_module": "@jupyter-widgets/controls",
      "_model_module_version": "1.5.0",
      "_model_name": "DescriptionStyleModel",
      "_view_count": null,
      "_view_module": "@jupyter-widgets/base",
      "_view_module_version": "1.2.0",
      "_view_name": "StyleView",
      "description_width": ""
     }
    },
    "db50cca2cf90410fb8b2c643c760a4d4": {
     "model_module": "@jupyter-widgets/controls",
     "model_module_version": "1.5.0",
     "model_name": "FloatProgressModel",
     "state": {
      "_dom_classes": [],
      "_model_module": "@jupyter-widgets/controls",
      "_model_module_version": "1.5.0",
      "_model_name": "FloatProgressModel",
      "_view_count": null,
      "_view_module": "@jupyter-widgets/controls",
      "_view_module_version": "1.5.0",
      "_view_name": "ProgressView",
      "bar_style": "success",
      "description": "",
      "description_tooltip": null,
      "layout": "IPY_MODEL_13b547710721495d9208e57ada20c5f5",
      "max": 1,
      "min": 0,
      "orientation": "horizontal",
      "style": "IPY_MODEL_1e4c8bbbc92a459b953fe741be83d132",
      "value": 1
     }
    },
    "f08d706b3ef9486383d12ad5d37bd622": {
     "model_module": "@jupyter-widgets/base",
     "model_module_version": "1.2.0",
     "model_name": "LayoutModel",
     "state": {
      "_model_module": "@jupyter-widgets/base",
      "_model_module_version": "1.2.0",
      "_model_name": "LayoutModel",
      "_view_count": null,
      "_view_module": "@jupyter-widgets/base",
      "_view_module_version": "1.2.0",
      "_view_name": "LayoutView",
      "align_content": null,
      "align_items": null,
      "align_self": null,
      "border": null,
      "bottom": null,
      "display": null,
      "flex": null,
      "flex_flow": null,
      "grid_area": null,
      "grid_auto_columns": null,
      "grid_auto_flow": null,
      "grid_auto_rows": null,
      "grid_column": null,
      "grid_gap": null,
      "grid_row": null,
      "grid_template_areas": null,
      "grid_template_columns": null,
      "grid_template_rows": null,
      "height": null,
      "justify_content": null,
      "justify_items": null,
      "left": null,
      "margin": null,
      "max_height": null,
      "max_width": null,
      "min_height": null,
      "min_width": null,
      "object_fit": null,
      "object_position": null,
      "order": null,
      "overflow": null,
      "overflow_x": null,
      "overflow_y": null,
      "padding": null,
      "right": null,
      "top": null,
      "visibility": null,
      "width": null
     }
    },
    "f75b54c99e4d446e8a9701d98a4eaff7": {
     "model_module": "@jupyter-widgets/controls",
     "model_module_version": "1.5.0",
     "model_name": "DescriptionStyleModel",
     "state": {
      "_model_module": "@jupyter-widgets/controls",
      "_model_module_version": "1.5.0",
      "_model_name": "DescriptionStyleModel",
      "_view_count": null,
      "_view_module": "@jupyter-widgets/base",
      "_view_module_version": "1.2.0",
      "_view_name": "StyleView",
      "description_width": ""
     }
    },
    "fc9cff826c514d548f4a612351e963cb": {
     "model_module": "@jupyter-widgets/base",
     "model_module_version": "1.2.0",
     "model_name": "LayoutModel",
     "state": {
      "_model_module": "@jupyter-widgets/base",
      "_model_module_version": "1.2.0",
      "_model_name": "LayoutModel",
      "_view_count": null,
      "_view_module": "@jupyter-widgets/base",
      "_view_module_version": "1.2.0",
      "_view_name": "LayoutView",
      "align_content": null,
      "align_items": null,
      "align_self": null,
      "border": null,
      "bottom": null,
      "display": null,
      "flex": null,
      "flex_flow": null,
      "grid_area": null,
      "grid_auto_columns": null,
      "grid_auto_flow": null,
      "grid_auto_rows": null,
      "grid_column": null,
      "grid_gap": null,
      "grid_row": null,
      "grid_template_areas": null,
      "grid_template_columns": null,
      "grid_template_rows": null,
      "height": null,
      "justify_content": null,
      "justify_items": null,
      "left": null,
      "margin": null,
      "max_height": null,
      "max_width": null,
      "min_height": null,
      "min_width": null,
      "object_fit": null,
      "object_position": null,
      "order": null,
      "overflow": null,
      "overflow_x": null,
      "overflow_y": null,
      "padding": null,
      "right": null,
      "top": null,
      "visibility": null,
      "width": null
     }
    }
   }
  }
 },
 "nbformat": 4,
 "nbformat_minor": 4
}
